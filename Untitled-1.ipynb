{
 "cells": [
  {
   "cell_type": "code",
   "execution_count": null,
   "id": "24d1c0ef",
   "metadata": {},
   "outputs": [],
   "source": [
    "import torch"
   ]
  }
 ],
 "metadata": {
  "language_info": {
   "name": "python"
  }
 },
 "nbformat": 4,
 "nbformat_minor": 5
}
